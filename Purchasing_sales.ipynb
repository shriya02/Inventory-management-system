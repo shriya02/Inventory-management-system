{
  "nbformat": 4,
  "nbformat_minor": 0,
  "metadata": {
    "colab": {
      "name": "Purchasing sales.ipynb",
      "provenance": []
    },
    "kernelspec": {
      "name": "python3",
      "display_name": "Python 3"
    },
    "language_info": {
      "name": "python"
    }
  },
  "cells": [
    {
      "cell_type": "markdown",
      "metadata": {
        "id": "PIqLHqHCCW2r"
      },
      "source": [
        "**Read inventory**"
      ]
    },
    {
      "cell_type": "code",
      "metadata": {
        "id": "d4QT14VSXxG8",
        "colab": {
          "base_uri": "https://localhost:8080/",
          "height": 229
        },
        "outputId": "5fd2cb3c-4f44-48ab-cb55-b68126c286f0"
      },
      "source": [
        "import json\n",
        "\n",
        "fd=open(\"record.json\",'r')\n",
        "r=fd.read()\n",
        "fd.close()\n",
        "\n",
        "records=json.loads(r)"
      ],
      "execution_count": 160,
      "outputs": [
        {
          "output_type": "error",
          "ename": "IsADirectoryError",
          "evalue": "ignored",
          "traceback": [
            "\u001b[0;31m---------------------------------------------------------------------------\u001b[0m",
            "\u001b[0;31mIsADirectoryError\u001b[0m                         Traceback (most recent call last)",
            "\u001b[0;32m<ipython-input-160-7f77957dff23>\u001b[0m in \u001b[0;36m<module>\u001b[0;34m()\u001b[0m\n\u001b[1;32m      1\u001b[0m \u001b[0;32mimport\u001b[0m \u001b[0mjson\u001b[0m\u001b[0;34m\u001b[0m\u001b[0;34m\u001b[0m\u001b[0m\n\u001b[1;32m      2\u001b[0m \u001b[0;34m\u001b[0m\u001b[0m\n\u001b[0;32m----> 3\u001b[0;31m \u001b[0mfd\u001b[0m\u001b[0;34m=\u001b[0m\u001b[0mopen\u001b[0m\u001b[0;34m(\u001b[0m\u001b[0;34m\"/content/sample_data/important\"\u001b[0m\u001b[0;34m,\u001b[0m\u001b[0;34m'r'\u001b[0m\u001b[0;34m)\u001b[0m\u001b[0;34m\u001b[0m\u001b[0;34m\u001b[0m\u001b[0m\n\u001b[0m\u001b[1;32m      4\u001b[0m \u001b[0mr\u001b[0m\u001b[0;34m=\u001b[0m\u001b[0mfd\u001b[0m\u001b[0;34m.\u001b[0m\u001b[0mread\u001b[0m\u001b[0;34m(\u001b[0m\u001b[0;34m)\u001b[0m\u001b[0;34m\u001b[0m\u001b[0;34m\u001b[0m\u001b[0m\n\u001b[1;32m      5\u001b[0m \u001b[0mfd\u001b[0m\u001b[0;34m.\u001b[0m\u001b[0mclose\u001b[0m\u001b[0;34m(\u001b[0m\u001b[0;34m)\u001b[0m\u001b[0;34m\u001b[0m\u001b[0;34m\u001b[0m\u001b[0m\n",
            "\u001b[0;31mIsADirectoryError\u001b[0m: [Errno 21] Is a directory: '/content/sample_data/important'"
          ]
        }
      ]
    },
    {
      "cell_type": "code",
      "metadata": {
        "colab": {
          "base_uri": "https://localhost:8080/"
        },
        "id": "0HNsUGN_wSph",
        "outputId": "4a0fd628-36af-410b-cb4e-8290acb8a6af"
      },
      "source": [
        "records"
      ],
      "execution_count": 22,
      "outputs": [
        {
          "output_type": "execute_result",
          "data": {
            "text/plain": [
              "{'1000': {'name': 'frooti', 'pr': 100, 'qn': 100, 'type': 'drinks'},\n",
              " '1001': {'name': 'milkybar', 'pr': 50, 'qn': 1000, 'type': 'chocolate'},\n",
              " '1002': {'name': 'kitkat', 'pr': 10, 'qn': 1090, 'type': 'chocolate'},\n",
              " '1003': {'name': 'limca', 'pr': 40, 'qn': 2000},\n",
              " '1004': {'name': 'powder', 'pr': 90, 'qn': 1000, 'type': 'beauty'},\n",
              " '1005': {'name': 'peanuts', 'pr': 10, 'qn': 200, 'type': 'snacks '},\n",
              " '1006': {'name': 'vim liquid ', 'pr': 150, 'qn': 100, 'type': 'cleaner '},\n",
              " '1007': {'name': 'surf excel', 'pr': 200, 'qn': 200, 'type': 'cleaner '},\n",
              " '1008 ': {'name': 'dates ', 'pr': 300, 'qn': 100, 'type': 'snacks'},\n",
              " '1009': {'name': 'chips ', 'pr': 50, 'qn': 100, 'type': 'snacks '},\n",
              " '1010': {'name': 'lays ', 'pr': 10, 'qn': 100, 'type': 'snacks '},\n",
              " '1011': {'name': 'peanut oil ', 'pr': 200, 'qn': 200, 'type': 'essential '},\n",
              " '1012': {'name': 'sunfeast ', 'pr': 10, 'qn': 200, 'type': 'biscuits'},\n",
              " '1013': {'name': 'good day ', 'pr': 10, 'qn': 200, 'type': 'biscuits'},\n",
              " '1014': {'name': 'hide n seek ', 'pr': 30, 'qn': 200, 'type': 'biscuits'},\n",
              " '1015': {'name': 'bottle ', 'pr': 70, 'qn': 50, 'type': 'essential '},\n",
              " '1016': {'name': 'towel ', 'pr': 150, 'qn': 200, 'type': 'essential '},\n",
              " '1017': {'name': 'cococut oil ', 'pr': 100, 'qn': 50, 'type': 'essential '},\n",
              " '1018': {'name': 'chewing gum ', 'pr': 5, 'qn': 100, 'type': 'snacks '},\n",
              " '1019': {'name': 'headphone ', 'pr': 2000, 'qn': 100, 'type': 'essential '},\n",
              " '1020': {'name': 'phone ', 'pr': 50000, 'qn': 100, 'type': 'electrical '},\n",
              " '1021': {'name': 'toaster ', 'pr': 1500, 'qn': 50, 'type': 'electrical '},\n",
              " '1022': {'name': 'speaker ', 'pr': 3000, 'qn': 50, 'type': 'electrical '},\n",
              " '1023': {'name': 'egg beater ', 'pr': 1500, 'qn': 60, 'type': 'electrical '},\n",
              " '1024': {'name': 'eraser ', 'pr': 5, 'qn': 200, 'type': 'stationary '},\n",
              " '1025': {'name': 'pencils ', 'pr': 10, 'qn': 200, 'type': 'stationary '},\n",
              " '1026': {'name': 'sharpener ', 'pr': 5, 'qn': 96, 'type': 'stationary '},\n",
              " '1027': {'name': 'paints', 'pr': 200, 'qn': 98, 'type': 'stationary '},\n",
              " '1028': {'name': 'brush ', 'pr': 60, 'qn': 100, 'type': 'essential '},\n",
              " '1029': {'name': 'tooth paste ', 'pr': 70, 'qn': 100, 'type': 'essential '},\n",
              " 'type': 'drinks'}"
            ]
          },
          "metadata": {},
          "execution_count": 22
        }
      ]
    },
    {
      "cell_type": "markdown",
      "metadata": {
        "id": "uFuePVCX0tOG"
      },
      "source": [
        "**Purchase** \n"
      ]
    },
    {
      "cell_type": "code",
      "metadata": {
        "colab": {
          "base_uri": "https://localhost:8080/"
        },
        "id": "NKY2dAjb65c9",
        "outputId": "fb65411f-066b-4f0e-d4e0-7e2c96c12f1c"
      },
      "source": [
        "prod_id=str(input(\"enter product id:\"))\n",
        "quantity=int(input(\"enter the quantity:\"))\n",
        "sales={}\n",
        "\n",
        "if (prod_id in records.keys()):\n",
        "  if (records[prod_id]['qn']!=0):\n",
        "    print(\"Product: \",records[prod_id]['name'])\n",
        "    print(\"Price:\",records[prod_id]['pr'])\n",
        "    print(\"Bill amount:\",records[prod_id]['pr']*quantity)\n",
        "    records[prod_id]['qn']=records[prod_id]['qn']-quantity\n",
        "    sales={\"1\":{\"prod\":prod_id,\"qn\":quantity,\"amount\":records[prod_id]['pr']*quantity}}\n",
        "    sales[str(len(sales)+1)]={\"prod\":prod_id,\"qn\":quantity,\"amount\":records[prod_id]['pr']*quantity}\n",
        "    \n",
        "    \n",
        "  else:\n",
        "    print(\"item not available\")\n",
        "\n",
        " \n",
        " \n",
        " "
      ],
      "execution_count": 207,
      "outputs": [
        {
          "output_type": "stream",
          "name": "stdout",
          "text": [
            "enter product id:1009\n",
            "enter the quantity:1\n",
            "Product:  chips \n",
            "Price: 50\n",
            "Bill amount: 50\n"
          ]
        }
      ]
    },
    {
      "cell_type": "markdown",
      "metadata": {
        "id": "WpA6Z7aE9UgR"
      },
      "source": [
        "update inventory after purchase\n",
        "    \n"
      ]
    },
    {
      "cell_type": "code",
      "metadata": {
        "id": "al_GomVFZ8tO"
      },
      "source": [
        "js=json.dumps(records)\n",
        "fd=open(\"record.json\",'w')\n",
        "r=fd.write(js)\n",
        "fd.close()\n",
        "\n"
      ],
      "execution_count": 201,
      "outputs": []
    },
    {
      "cell_type": "markdown",
      "metadata": {
        "id": "RiKFSeJy-gIO"
      },
      "source": [
        "**Sales Json**"
      ]
    },
    {
      "cell_type": "code",
      "metadata": {
        "id": "gGL6Qnr2anOe",
        "colab": {
          "base_uri": "https://localhost:8080/"
        },
        "outputId": "b1bd00f2-0011-4717-d8e8-73767fdaa292"
      },
      "source": [
        "fd=open(\"record.json\",'w')\n",
        "    sale=json.dumps(sales)\n",
        "    r=fd.write(sale)\n",
        "    fd.close()\n",
        "\n",
        "\n",
        "sales\n"
      ],
      "execution_count": 209,
      "outputs": [
        {
          "output_type": "execute_result",
          "data": {
            "text/plain": [
              "{'1': {'amount': 50, 'prod': '1009', 'qn': 1},\n",
              " '2': {'amount': 50, 'prod': '1009', 'qn': 1}}"
            ]
          },
          "metadata": {},
          "execution_count": 209
        }
      ]
    },
    {
      "cell_type": "code",
      "metadata": {
        "id": "4-Ns_mhw-mEv"
      },
      "source": [
        "\n"
      ],
      "execution_count": 174,
      "outputs": []
    },
    {
      "cell_type": "code",
      "metadata": {
        "id": "wC0-7KAZJUp-"
      },
      "source": [
        "\n"
      ],
      "execution_count": 140,
      "outputs": []
    },
    {
      "cell_type": "code",
      "metadata": {
        "id": "aAMIvECkQoad"
      },
      "source": [
        "\n"
      ],
      "execution_count": 93,
      "outputs": []
    }
  ]
}